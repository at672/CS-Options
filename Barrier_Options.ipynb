{
 "cells": [
  {
   "attachments": {},
   "cell_type": "markdown",
   "metadata": {},
   "source": [
    "# Barrier Options"
   ]
  },
  {
   "attachments": {},
   "cell_type": "markdown",
   "metadata": {},
   "source": [
    "Some notes:\n",
    "\n",
    "1. Barrier Options can be priced analytically with the traditional Black Scholes partial differential equation. We assume that the barrier option is being continously monitored, and we adjust the boundary conditions of the PDE to account for the barrier. Doing so willl give us analytical formulas that are very long and complex.\n",
    "\n",
    "2. The reason why we can price barrier options analytically, but we can't price other path dependent options analytically, such as Asian options, is because the path-dependent nature is not the same. The path dependency of the barrier option is if the value of the stochastic process (the stock price trajectory) hits a constant value, not a time dependent value, or a stochastic value. Meanwhile, Asian options' payoffs are determined by the average value of the stock price on that path. This is entirely random and cannot be modeled as an input that results in an adjustment to boundary conditions or the like.\n",
    "\n",
    "However, it is possible to price exotics in general, including Asian options, byh extending the process to a higher dimensionality, and then applying the Feyman Kac formula in that higher dimensional space to obtain a Partial Differential Equation. Then you would solve that partial differential equation.\n",
    "\n",
    "3. If we think about it, an up and out call, as well as a down and out put are both types of barrier options that we really don't want to be long. If we are in the money for a call, we want to be in the money by as much as possible. If doing so causes us to breach a predefined barrier that casues our option to become worthless, that's not good. The same argument can be made for the put.\n",
    "\n",
    "I'd be curious to see if there are a sellers discount on these barrier options, or a buyer's premium on the down and in put, up and in call.\n",
    "\n",
    "4. Some information regarding hedging the up and out call. at $S_t = B$, the option price has a discontinuity from being worth $ B - K$ to $0$. Thus, for $t$ near $T$ and $S_t$ just below $B$, the delta and gamma are both large negative values. Therefore, the option seller will need to start shorting shares to hedge the up and out call, and then after expiration the trader would need to buy back the shares. Because the delta is large and negative, the trader would need to take a large short position. Because the gamma is large and negative, the trader would need to make large adjustments to the position. Thus, a large amount of trading would be required.\n",
    "\n",
    "Therefore, to prevent this, a common industry practice would to be price and hedge the up and out call as if the barrier were at a slightly higher level than B. That way, the regime where delta and gamma are large and negative occurs in the region above the contractual barrier B, and therefore this involved trading is no longer necessary."
   ]
  },
  {
   "attachments": {},
   "cell_type": "markdown",
   "metadata": {},
   "source": [
    "References:\n",
    "\n",
    "https://bookdown.org/maxime_debellefroid/MyBook/barrier-options.html\n",
    "\n",
    "Shreve, Stochastic calculus for finance, \n",
    "\n",
    "Hull, Options, Futures, and other Derivatives."
   ]
  },
  {
   "attachments": {},
   "cell_type": "markdown",
   "metadata": {},
   "source": [
    "Therefore, as discussed above we can price a continuously monitored up-and-out call option under a Black Scholes framework. Let's do so and compare to the result from simulation.\n",
    "\n",
    "The payoff of an up and out, continuously monitored barrier call is:\n",
    "\n",
    "$ V(t, S_t) = \\mathbb{E}^\\mathbb{Q} \\left[ e^{-r(T-t)}\\mathbb{I}_{\\tau(b)> T}\\max(S_T - K, 0) \\right | \\mathcal{F}_t] $\n",
    "\n",
    "where $\\tau(b) = \\inf\\{t: S(t) \\geq b\\}$.\n",
    "\n",
    "\"Inf\" in this case refers to infimum, that is the greatest element that is lower or equal to the lowest element of the superset that the quantity in question belongs to. In simple English, $\\tau(b)$ refers to the first time the process $S(t)$ is greater than or equal to the barrier. Since this is an up and out call, the indicator function in the payoff means that the first time the process exceeds the barrier occurs after the maturity. That is to say, at and prior to maturity, the barrier is not breached, which we want in order for this option payoff to be worth something."
   ]
  },
  {
   "attachments": {},
   "cell_type": "markdown",
   "metadata": {},
   "source": [
    "Analytical proof goes here"
   ]
  },
  {
   "attachments": {},
   "cell_type": "markdown",
   "metadata": {},
   "source": [
    "The simulation is below."
   ]
  },
  {
   "cell_type": "code",
   "execution_count": null,
   "metadata": {
    "vscode": {
     "languageId": "plaintext"
    }
   },
   "outputs": [],
   "source": []
  }
 ],
 "metadata": {
  "language_info": {
   "name": "python"
  },
  "orig_nbformat": 4
 },
 "nbformat": 4,
 "nbformat_minor": 2
}
