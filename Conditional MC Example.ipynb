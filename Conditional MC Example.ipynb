{
 "cells": [
  {
   "attachments": {},
   "cell_type": "markdown",
   "metadata": {},
   "source": [
    "### Pricing delayed start options via simulation w/o and w/ conditional MC\n",
    "\n",
    "This notebook is sample code on using conditional Monte Carlo to improve results compared to traditional Monte Carlo simulation."
   ]
  },
  {
   "cell_type": "code",
   "execution_count": 2,
   "metadata": {
    "collapsed": true
   },
   "outputs": [],
   "source": [
    "#Imports \n",
    "\n",
    "import numpy as np\n",
    "import matplotlib.pyplot as plt\n",
    "import scipy as sp\n",
    "from time import time\n",
    "# import our BMS price and delta functions\n",
    "from BMS import BMS_price, BMS_delta\n",
    "# import ecdf function\n",
    "from statsmodels.distributions.empirical_distribution import ECDF"
   ]
  },
  {
   "cell_type": "code",
   "execution_count": 3,
   "metadata": {
    "collapsed": true
   },
   "outputs": [],
   "source": [
    "# Define parameters\n",
    "\n",
    "s0 = 100\n",
    "t1 = 0.5\n",
    "T = 1\n",
    "sig = 0.15\n",
    "r = 0.04\n",
    "q = 0.015\n",
    "\n",
    "lda = 0.9"
   ]
  },
  {
   "cell_type": "code",
   "execution_count": 4,
   "metadata": {},
   "outputs": [
    {
     "name": "stdout",
     "output_type": "stream",
     "text": [
      "Exact solution: 11.6130\n"
     ]
    }
   ],
   "source": [
    "# exact solution\n",
    "c = s0 * np.exp(-q*t1) * BMS_price('call', 1, lda, r, q, sig, T, t1)\n",
    "print('Exact solution: %3.4f' % c)"
   ]
  },
  {
   "cell_type": "code",
   "execution_count": 5,
   "metadata": {
    "collapsed": true
   },
   "outputs": [],
   "source": [
    "np.random.seed(123)\n",
    "n_sims = 10000\n",
    "discountedPayoffs1 = np.zeros(n_sims)\n",
    "discountedPayoffs2 = np.zeros(n_sims)"
   ]
  },
  {
   "cell_type": "code",
   "execution_count": 6,
   "metadata": {},
   "outputs": [
    {
     "name": "stdout",
     "output_type": "stream",
     "text": [
      "Elapsed time was 1.4375 seconds.\n"
     ]
    }
   ],
   "source": [
    "st = time()\n",
    "\n",
    "# could be made faster by vectorizing and removing the for loop\n",
    "for i in range(n_sims):\n",
    "    z1 = np.random.randn()\n",
    "    s1 = s0 * np.exp((r - q -sig*sig/2)*t1 + sig*np.sqrt(t1)*z1)\n",
    "    # set strike\n",
    "    K = lda * s1\n",
    "    # naive MC\n",
    "    z2 = np.random.randn()\n",
    "    s2 = s1 * np.exp((r - q -sig*sig/2)*(T - t1) + sig*np.sqrt(T - t1)*z2)\n",
    "    discountedPayoffs1[i] = np.exp(-r*T) * max(s2 - K, 0)\n",
    "    # conditional MC\n",
    "    discountedPayoffs2[i] = np.exp(-r*t1) * BMS_price('call', s1, K, r, q, sig, T, t1)\n",
    "    \n",
    "c_hat1 = np.mean(discountedPayoffs1)\n",
    "var_hat1 = np.var(discountedPayoffs1, ddof=1)\n",
    "\n",
    "c_hat2 = np.mean(discountedPayoffs2)\n",
    "var_hat2 = np.var(discountedPayoffs2, ddof=1)\n",
    "\n",
    "et = time()\n",
    "print('Elapsed time was %3.4f seconds.' % (et - st))"
   ]
  },
  {
   "attachments": {},
   "cell_type": "markdown",
   "metadata": {},
   "source": [
    "Pay attention to the half-width of CI"
   ]
  },
  {
   "cell_type": "code",
   "execution_count": 7,
   "metadata": {},
   "outputs": [
    {
     "name": "stdout",
     "output_type": "stream",
     "text": [
      "Exact solution: 11.6130\n",
      "n_sims = 10000\n",
      "Naive MC: 11.6677 (93.7672)\n",
      "Conditional MC: 11.6362 (1.5492)\n"
     ]
    }
   ],
   "source": [
    "print('Exact solution: %3.4f' % c)\n",
    "print('n_sims = %i' % n_sims)\n",
    "print('Naive MC: %3.4f (%3.4f)' % (c_hat1, var_hat1))\n",
    "print('Conditional MC: %3.4f (%3.4f)' % (c_hat2, var_hat2))"
   ]
  },
  {
   "attachments": {},
   "cell_type": "markdown",
   "metadata": {},
   "source": [
    "What we see is that the conditional MC estimator is closer to the value given by the black-scholes model, and more importantly, it has significantly less variance."
   ]
  },
  {
   "attachments": {},
   "cell_type": "markdown",
   "metadata": {},
   "source": []
  }
 ],
 "metadata": {
  "kernelspec": {
   "display_name": "Python 3",
   "language": "python",
   "name": "python3"
  },
  "language_info": {
   "codemirror_mode": {
    "name": "ipython",
    "version": 3
   },
   "file_extension": ".py",
   "mimetype": "text/x-python",
   "name": "python",
   "nbconvert_exporter": "python",
   "pygments_lexer": "ipython3",
   "version": "3.9.12"
  }
 },
 "nbformat": 4,
 "nbformat_minor": 2
}
