{
 "cells": [
  {
   "attachments": {},
   "cell_type": "markdown",
   "metadata": {},
   "source": [
    "## Correlated Underlyings and Their effect on Option Payoffs\n",
    "\n",
    "In this exercise we will analyze three types of options with different payoff structures and determine how differences in correlation between the underlying affect the payoff."
   ]
  },
  {
   "attachments": {},
   "cell_type": "markdown",
   "metadata": {},
   "source": [
    "Let us consider two stocks, determined by their respective processes $\\{(S_1(t), S_2(t)) : t \\geq 0\\}$ be geometric brownian motions with drift vector $\\boldsymbol{\\mu}$ and covariance matrix $\\boldsymbol{\\Sigma}$.\n",
    "\n",
    "In this example, let us assume that $\\boldsymbol{\\mu} = [r, r]^T$ and, since all covariance matricies are real and positive semi-definite, $\\boldsymbol{\\Sigma}$ can be decomposed as $\\boldsymbol{\\Sigma} = AA^T$\n",
    "\n",
    "If we take $A$ to be a lower triangular matrix, then this is called a Cholesky decomposition. However, I am going to do something simpler. Since this problem only involves two variables, I will set $A = \\begin{pmatrix}\n",
    "1 & c\\\\\n",
    "c & 1\n",
    "\\end{pmatrix} $ instead of $A = \\begin{pmatrix}\n",
    "1 & 0\\\\\n",
    "c & 1\n",
    "\\end{pmatrix} $\n",
    "\n",
    "The second formulation is what would be used for a cholesky decomposition.\n",
    "\n",
    "You can verify for yourself that if we take the first definition of $A$, then the variances of each process will be equal, whereas in a cholesky decomposition, that is not necessarily true.\n",
    "\n",
    "I will choose multiple values of $c$ to control the amount of covariance that each stock has with each other."
   ]
  },
  {
   "attachments": {},
   "cell_type": "markdown",
   "metadata": {},
   "source": [
    "Regarding the options, we will test three options. They and their payoffs are:\n",
    "\n",
    "1. Spread option: $ Y_1 = \\mathbb{E}^\\mathbb{Q} \\left[ e^{-r(T-t)}\\max(S_1(T) - S_2(T) - K, 0)  | \\mathcal{F}_t \\right] $\n",
    "2. Basket option: $ Y_1 = \\mathbb{E}^\\mathbb{Q} \\left[ e^{-r(T-t)}\\max(S_1(T) + S_2(T) - K, 0)  | \\mathcal{F}_t \\right] $\n",
    "3. Outperformance option: $ Y_1 = \\mathbb{E}^\\mathbb{Q} \\left[ e^{-r(T-t)}\\max[\\max(S_1(T) , S_2(T)) - K)]  | \\mathcal{F}_t \\right] $\n",
    "\n",
    "\n",
    "For this example, we will choose parameters as follows\n",
    "\n",
    "$S_1(0) = S_2(0) = 1, K = 2, r = 0.05, T = 1$\n",
    "$c = -0.5, 0, 0.5$\n",
    "We will use 20,000 monte carlo iterations and comment on our findings. Speaking of which, before we run any monte carlo simulations, simply by looking at the payoffs, we expect that when $S_1$ and $S_2$ diverge significantly, we expect a high payoff on the spread and a low payoff on the basket. Thus, when we believe stocks are negatively correlated, we prefer the spread option. Similarly, we expect that when $S_1$ and $S_2$ are highly correlated, we expect a high payoff on the basket and a low payoff on the spread. Thus, when we believe stocks are positively correlated, we prefer the basket option."
   ]
  },
  {
   "cell_type": "code",
   "execution_count": 4,
   "metadata": {},
   "outputs": [
    {
     "name": "stdout",
     "output_type": "stream",
     "text": [
      "[[ 1.  -0.5]\n",
      " [-0.5  1. ]]\n",
      "[[1 0]\n",
      " [0 1]]\n",
      "[[1.  0.5]\n",
      " [0.5 1. ]]\n",
      "[array([[ 1.25, -1.  ],\n",
      "       [-1.  ,  1.25]]), array([[1, 0],\n",
      "       [0, 1]]), array([[1.25, 1.  ],\n",
      "       [1.  , 1.25]])]\n"
     ]
    }
   ],
   "source": [
    "import numpy as np\n",
    "import scipy.stats as sp\n",
    "import matplotlib.pyplot as plt\n",
    "\n",
    "# GBM parameters\n",
    "r = 0.05\n",
    "mu = np.array([r, r])\n",
    "S0_1 = 1\n",
    "S0_2 = 1\n",
    "\n",
    "# Other parameters\n",
    "K = 2; # strike\n",
    "\n",
    "c_values = [-0.5, 0, 0.5]\n",
    "Sigma_values = [0 , 0, 0]\n",
    "\n",
    "for i in range(len(c_values)):\n",
    "    c = c_values[i]\n",
    "    A = np.array([[1,c],[c,1]])\n",
    "    print(A)\n",
    "    Sigma_values[i] = np.matmul(A, np.transpose(A))\n",
    "\n",
    "print(Sigma_values)\n"
   ]
  },
  {
   "cell_type": "code",
   "execution_count": null,
   "metadata": {},
   "outputs": [],
   "source": []
  }
 ],
 "metadata": {
  "kernelspec": {
   "display_name": "base",
   "language": "python",
   "name": "python3"
  },
  "language_info": {
   "codemirror_mode": {
    "name": "ipython",
    "version": 3
   },
   "file_extension": ".py",
   "mimetype": "text/x-python",
   "name": "python",
   "nbconvert_exporter": "python",
   "pygments_lexer": "ipython3",
   "version": "3.9.12"
  },
  "orig_nbformat": 4
 },
 "nbformat": 4,
 "nbformat_minor": 2
}
