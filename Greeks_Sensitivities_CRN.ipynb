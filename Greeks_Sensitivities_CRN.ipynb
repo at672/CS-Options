{
 "cells": [
  {
   "cell_type": "markdown",
   "metadata": {},
   "source": [
    "# Calculating Option Greeks\n",
    "\n",
    "This notebook shows how to calculate Option Greeks using the pathwise estimation method as well as the likelihood ratio method.\n",
    "\n",
    "While understanding how to price options is important, it is equally if not more important to understand how the price of an option changes with respect to its underlying inputs.\n",
    "\n",
    "Recall that the price of an option, under a Black Scholes framework, is dependent on five parameters:\n",
    "\n",
    "1. The stock price\n",
    "2. The strike price\n",
    "3. The time until maturity\n",
    "4. The volatility of the stock\n",
    "5. The interest rate\n",
    "\n",
    "Under a Black Scholes framework, we can compute the partial derivatives with respect to four of these inputs (since strike price is a constant, it does not make sense to compute a derivative with respect to it.) These are commonly referred to as the Greeks, as the names of (some of) these partial derivatives are based on Greek letters. The ones that are not are named to \"sound like\" Greek letters, but no actual greek letter exists.\n",
    "\n",
    "### Black Scholes\n",
    "\n",
    "The Greeks can be computed analytically as shown above. We start with the analytical form of the BS equation:\n",
    "\n",
    "$ C(S_t, t) $ is the call price and $P(S_t, t) $ is the put price. I will also denote $V$ as a generic option value function, for either a Call or a Put.\n",
    "\n",
    "$ \\begin{aligned}C(S_{t},t)&=N(d_{1})S_{t}-N(d_{2})PV(K)\\\\d_{1}&={\\frac {1}{\\sigma {\\sqrt {T-t}}}}\\left[\\ln \\left({\\frac {S_{t}}{K}}\\right)+\\left(r+{\\frac {\\sigma ^{2}}{2}}\\right)(T-t)\\right]\\\\d_{2}&=d_{1}-\\sigma {\\sqrt {T-t}}\\\\PV(K)&=Ke^{-r(T-t)}\\end{aligned}  $\n",
    "\n",
    " The price of a corresponding put option based on put–call parity is:\n",
    " \n",
    "$ \\begin{aligned}P(S_{t},t)&=Ke^{-r(T-t)}-S_{t}+C(S_{t},t)\\\\&=N(-d_{2})Ke^{-r(T-t)}-N(-d_{1})S_{t}\\end{aligned} $\n",
    "\n",
    "\n",
    "### The Greeks (Analytical Computations)\n",
    "\n",
    "#### Delta\n",
    "\n",
    "Delta is defined as the partial derivative of the option value with respect to the underlying.\n",
    "\n",
    "#### Gamma\n",
    "\n",
    "Gamm is defined as the partial derivative of an option's delta with respect to the underlying. Thus it is the second derivative of the option value with respect to the underlying.\n",
    "\n",
    "#### Vega\n",
    "\n",
    "#### Theta"
   ]
  },
  {
   "cell_type": "markdown",
   "metadata": {},
   "source": [
    "### Simple Analysis\n",
    "\n",
    "### Common Random Numbers\n",
    "\n",
    "### Pathwise Estimation\n",
    "\n",
    "### Likelihood Ratio Method\n"
   ]
  },
  {
   "cell_type": "markdown",
   "metadata": {},
   "source": [
    "\n",
    "\n",
    "\n",
    "\n",
    "Less important Greeks:\n",
    "\n",
    "#### Rho\n",
    "\n",
    "#### Vomma\n",
    "\n",
    "#### Vanna\n",
    "\n",
    "#### Veta\n",
    "\n",
    "#### Charm\n",
    "\n",
    "\n",
    "\n",
    "Reference: https://en.wikipedia.org/wiki/Greeks_(finance)"
   ]
  },
  {
   "cell_type": "markdown",
   "metadata": {},
   "source": []
  },
  {
   "cell_type": "markdown",
   "metadata": {},
   "source": []
  }
 ],
 "metadata": {
  "language_info": {
   "name": "python"
  },
  "orig_nbformat": 4
 },
 "nbformat": 4,
 "nbformat_minor": 2
}
