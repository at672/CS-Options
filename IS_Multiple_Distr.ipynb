{
 "cells": [
  {
   "attachments": {},
   "cell_type": "markdown",
   "metadata": {},
   "source": [
    "# Importance Sampling for a European Call\n",
    "\n",
    "The goal of this exercise is to show how importance sampling can be used to provide a more accurate predictive interval for the price of an option."
   ]
  },
  {
   "attachments": {},
   "cell_type": "markdown",
   "metadata": {},
   "source": [
    "The value of a European call option, $ V(t, S_t) $ is defined as $ \\mathbb{E}^\\mathbb{Q} \\left[ e^{-r(T-t)}\\max(S_T - K, 0) \\right | \\mathcal{F}_t] $\n",
    "\n",
    "That is, the risk neutral expectation of the discounted terminal payoff conditional on all information obtained until the current time.\n",
    "\n",
    "Consider the following scenario:\n",
    "\n",
    "$S(0) = 50, \\sigma = 0.2, r = 0.06$, and $T = 0.5$\n",
    "\n",
    "Let us consider a range of strikes $K$ with values 40, 50, 70, and 90.\n",
    "\n",
    "Intuitively, we expect standard monte carlo to perform well for strikes close to the starting value, 40 and 50 in this case, and worse when the strikes are far from the current option value, in this example 70 and 90. Let's see what happens."
   ]
  },
  {
   "attachments": {},
   "cell_type": "markdown",
   "metadata": {},
   "source": [
    "First, as a reference, let's use the black scholes equations to compute the theoretical values as a reference."
   ]
  },
  {
   "cell_type": "code",
   "execution_count": 36,
   "metadata": {},
   "outputs": [
    {
     "name": "stdout",
     "output_type": "stream",
     "text": [
      "['11.2732', '3.5779', '0.0441', '0.0001']\n"
     ]
    }
   ],
   "source": [
    "import numpy as np\n",
    "import scipy.stats\n",
    "import matplotlib.pyplot as plt\n",
    "\n",
    "import BMS\n",
    "\n",
    "\n",
    "#Define parameters\n",
    "T = 0.5\n",
    "r = 0.06\n",
    "sigma = 0.2\n",
    "S0 = 50\n",
    "Kn = np.array([40,50,70,90])\n",
    "MC = 10000 #number of monte carlo iterations.\n",
    "BS_exact = [0 for _ in range(len(Kn))]\n",
    "\n",
    "for i in range(0, len(Kn)):\n",
    "    BS_exact[i] = BMS.BMS_price('call', S = S0, K = Kn[i], r = r, q = 0, sigma = sigma, T = T, t = 0)\n",
    "\n",
    "#Format the output to 4 decimal points\n",
    "print([ '%.4f' % elem for elem in BS_exact ])"
   ]
  },
  {
   "attachments": {},
   "cell_type": "markdown",
   "metadata": {},
   "source": [
    "Next, let's proceed with the standard Monte Carlo simulation"
   ]
  },
  {
   "cell_type": "code",
   "execution_count": 47,
   "metadata": {},
   "outputs": [
    {
     "name": "stdout",
     "output_type": "stream",
     "text": [
      "['11.3164', '3.6071', '0.0556', '0.0000']\n"
     ]
    }
   ],
   "source": [
    "\n",
    "#Allocate space for storage\n",
    "MCcall = [0 for _ in range(len(Kn))]\n",
    "CIWidth_MC = [0 for _ in range(len(Kn))]\n",
    "CI_MCcall = np.zeros(shape = (len(Kn), 2))\n",
    "\n",
    "#set seed\n",
    "np.random.seed(seed=233423)\n",
    "\n",
    "#Sample from the normal distribution\n",
    "Z = scipy.stats.norm.rvs(loc = 0, scale = 1, size = MC)\n",
    "# Use standard MC method to estimate the option price\n",
    "#This is a Geoemtric brownian motion construction\n",
    "ZForMC = (r - sigma**2 / 2) * T + sigma * np.sqrt(T) * Z;\n",
    "SFinal = S0 * np.exp(ZForMC);\n",
    "for i in range(0, len(Kn)):\n",
    "    K = Kn[i]\n",
    "    #REMEMBER TO USE numpy.maximum, not np.max. They are two different functions!\n",
    "    DiscPayoff = np.exp(-r * T) * np.maximum(SFinal - K, 0)\n",
    "    MCcall[i] = np.mean(DiscPayoff)\n",
    "    StdDev = np.std(DiscPayoff)\n",
    "    #Confidence Interval\n",
    "    CI_MCcall[i,0] = MCcall[i] - 1.96*StdDev/np.sqrt(MC)\n",
    "    CI_MCcall[i,1] = MCcall[i] + 1.96*StdDev/np.sqrt(MC)\n",
    "    CIWidth_MC[i] = 1.96 * StdDev / np.sqrt(MC);\n",
    "\n",
    "print([ '%.4f' % elem for elem in MCcall ])\n"
   ]
  },
  {
   "attachments": {},
   "cell_type": "markdown",
   "metadata": {},
   "source": [
    "Visually, the standard Monte Carlo seems fairly accurate; however, on a percentage basis, we notice that the deviations for the latter 2 strikes seem to be very high."
   ]
  },
  {
   "attachments": {},
   "cell_type": "markdown",
   "metadata": {},
   "source": []
  }
 ],
 "metadata": {
  "kernelspec": {
   "display_name": "base",
   "language": "python",
   "name": "python3"
  },
  "language_info": {
   "codemirror_mode": {
    "name": "ipython",
    "version": 3
   },
   "file_extension": ".py",
   "mimetype": "text/x-python",
   "name": "python",
   "nbconvert_exporter": "python",
   "pygments_lexer": "ipython3",
   "version": "3.9.12"
  },
  "orig_nbformat": 4
 },
 "nbformat": 4,
 "nbformat_minor": 2
}
